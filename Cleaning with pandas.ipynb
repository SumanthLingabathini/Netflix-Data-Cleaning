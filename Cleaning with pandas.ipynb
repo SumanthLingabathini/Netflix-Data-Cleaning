{
 "cells": [
  {
   "cell_type": "code",
   "execution_count": 10,
   "id": "1c6524d8",
   "metadata": {},
   "outputs": [
    {
     "data": {
      "text/plain": [
       "'2.2.3'"
      ]
     },
     "execution_count": 10,
     "metadata": {},
     "output_type": "execute_result"
    }
   ],
   "source": [
    "import pandas as pd\n",
    "pd.__version__\n"
   ]
  },
  {
   "cell_type": "code",
   "execution_count": 14,
   "id": "f56f93cd",
   "metadata": {},
   "outputs": [],
   "source": [
    "data= pd.read_csv('netflix1.csv')"
   ]
  },
  {
   "cell_type": "code",
   "execution_count": 18,
   "id": "a9278083",
   "metadata": {},
   "outputs": [
    {
     "data": {
      "text/html": [
       "<div>\n",
       "<style scoped>\n",
       "    .dataframe tbody tr th:only-of-type {\n",
       "        vertical-align: middle;\n",
       "    }\n",
       "\n",
       "    .dataframe tbody tr th {\n",
       "        vertical-align: top;\n",
       "    }\n",
       "\n",
       "    .dataframe thead th {\n",
       "        text-align: right;\n",
       "    }\n",
       "</style>\n",
       "<table border=\"1\" class=\"dataframe\">\n",
       "  <thead>\n",
       "    <tr style=\"text-align: right;\">\n",
       "      <th></th>\n",
       "      <th>show_id</th>\n",
       "      <th>type</th>\n",
       "      <th>title</th>\n",
       "      <th>director</th>\n",
       "      <th>country</th>\n",
       "      <th>date_added</th>\n",
       "      <th>release_year</th>\n",
       "      <th>rating</th>\n",
       "      <th>duration</th>\n",
       "      <th>listed_in</th>\n",
       "    </tr>\n",
       "  </thead>\n",
       "  <tbody>\n",
       "    <tr>\n",
       "      <th>0</th>\n",
       "      <td>s1</td>\n",
       "      <td>Movie</td>\n",
       "      <td>Dick Johnson Is Dead</td>\n",
       "      <td>Kirsten Johnson</td>\n",
       "      <td>United States</td>\n",
       "      <td>9/25/2021</td>\n",
       "      <td>2020</td>\n",
       "      <td>PG-13</td>\n",
       "      <td>90 min</td>\n",
       "      <td>Documentaries</td>\n",
       "    </tr>\n",
       "    <tr>\n",
       "      <th>1</th>\n",
       "      <td>s3</td>\n",
       "      <td>TV Show</td>\n",
       "      <td>Ganglands</td>\n",
       "      <td>Julien Leclercq</td>\n",
       "      <td>France</td>\n",
       "      <td>9/24/2021</td>\n",
       "      <td>2021</td>\n",
       "      <td>TV-MA</td>\n",
       "      <td>1 Season</td>\n",
       "      <td>Crime TV Shows, International TV Shows, TV Act...</td>\n",
       "    </tr>\n",
       "    <tr>\n",
       "      <th>2</th>\n",
       "      <td>s6</td>\n",
       "      <td>TV Show</td>\n",
       "      <td>Midnight Mass</td>\n",
       "      <td>Mike Flanagan</td>\n",
       "      <td>United States</td>\n",
       "      <td>9/24/2021</td>\n",
       "      <td>2021</td>\n",
       "      <td>TV-MA</td>\n",
       "      <td>1 Season</td>\n",
       "      <td>TV Dramas, TV Horror, TV Mysteries</td>\n",
       "    </tr>\n",
       "    <tr>\n",
       "      <th>3</th>\n",
       "      <td>s14</td>\n",
       "      <td>Movie</td>\n",
       "      <td>Confessions of an Invisible Girl</td>\n",
       "      <td>Bruno Garotti</td>\n",
       "      <td>Brazil</td>\n",
       "      <td>9/22/2021</td>\n",
       "      <td>2021</td>\n",
       "      <td>TV-PG</td>\n",
       "      <td>91 min</td>\n",
       "      <td>Children &amp; Family Movies, Comedies</td>\n",
       "    </tr>\n",
       "    <tr>\n",
       "      <th>4</th>\n",
       "      <td>s8</td>\n",
       "      <td>Movie</td>\n",
       "      <td>Sankofa</td>\n",
       "      <td>Haile Gerima</td>\n",
       "      <td>United States</td>\n",
       "      <td>9/24/2021</td>\n",
       "      <td>1993</td>\n",
       "      <td>TV-MA</td>\n",
       "      <td>125 min</td>\n",
       "      <td>Dramas, Independent Movies, International Movies</td>\n",
       "    </tr>\n",
       "  </tbody>\n",
       "</table>\n",
       "</div>"
      ],
      "text/plain": [
       "  show_id     type                             title         director  \\\n",
       "0      s1    Movie              Dick Johnson Is Dead  Kirsten Johnson   \n",
       "1      s3  TV Show                         Ganglands  Julien Leclercq   \n",
       "2      s6  TV Show                     Midnight Mass    Mike Flanagan   \n",
       "3     s14    Movie  Confessions of an Invisible Girl    Bruno Garotti   \n",
       "4      s8    Movie                           Sankofa     Haile Gerima   \n",
       "\n",
       "         country date_added  release_year rating  duration  \\\n",
       "0  United States  9/25/2021          2020  PG-13    90 min   \n",
       "1         France  9/24/2021          2021  TV-MA  1 Season   \n",
       "2  United States  9/24/2021          2021  TV-MA  1 Season   \n",
       "3         Brazil  9/22/2021          2021  TV-PG    91 min   \n",
       "4  United States  9/24/2021          1993  TV-MA   125 min   \n",
       "\n",
       "                                           listed_in  \n",
       "0                                      Documentaries  \n",
       "1  Crime TV Shows, International TV Shows, TV Act...  \n",
       "2                 TV Dramas, TV Horror, TV Mysteries  \n",
       "3                 Children & Family Movies, Comedies  \n",
       "4   Dramas, Independent Movies, International Movies  "
      ]
     },
     "execution_count": 18,
     "metadata": {},
     "output_type": "execute_result"
    }
   ],
   "source": [
    "data.head()"
   ]
  },
  {
   "cell_type": "code",
   "execution_count": 19,
   "id": "350c8a1b",
   "metadata": {},
   "outputs": [
    {
     "name": "stdout",
     "output_type": "stream",
     "text": [
      "<class 'pandas.core.frame.DataFrame'>\n",
      "RangeIndex: 8790 entries, 0 to 8789\n",
      "Data columns (total 10 columns):\n",
      " #   Column        Non-Null Count  Dtype \n",
      "---  ------        --------------  ----- \n",
      " 0   show_id       8790 non-null   object\n",
      " 1   type          8790 non-null   object\n",
      " 2   title         8790 non-null   object\n",
      " 3   director      8790 non-null   object\n",
      " 4   country       8790 non-null   object\n",
      " 5   date_added    8790 non-null   object\n",
      " 6   release_year  8790 non-null   int64 \n",
      " 7   rating        8790 non-null   object\n",
      " 8   duration      8790 non-null   object\n",
      " 9   listed_in     8790 non-null   object\n",
      "dtypes: int64(1), object(9)\n",
      "memory usage: 686.8+ KB\n"
     ]
    }
   ],
   "source": [
    "data.info()"
   ]
  },
  {
   "cell_type": "code",
   "execution_count": null,
   "id": "fd266c4f",
   "metadata": {},
   "outputs": [],
   "source": [
    "#Deleting  unneccessary columns,\n",
    "#Renaming columns,\n",
    "#dropping duplicates,\n",
    "#removing the NaN Values from the dataset,(Nan values means special float values  used in pandas and numpy to indicate missing,null or inappalicable data )\n",
    "#Check for some more Transformations\n"
   ]
  },
  {
   "cell_type": "code",
   "execution_count": 20,
   "id": "b50ff068",
   "metadata": {},
   "outputs": [
    {
     "data": {
      "text/html": [
       "<div>\n",
       "<style scoped>\n",
       "    .dataframe tbody tr th:only-of-type {\n",
       "        vertical-align: middle;\n",
       "    }\n",
       "\n",
       "    .dataframe tbody tr th {\n",
       "        vertical-align: top;\n",
       "    }\n",
       "\n",
       "    .dataframe thead th {\n",
       "        text-align: right;\n",
       "    }\n",
       "</style>\n",
       "<table border=\"1\" class=\"dataframe\">\n",
       "  <thead>\n",
       "    <tr style=\"text-align: right;\">\n",
       "      <th></th>\n",
       "      <th>show_id</th>\n",
       "      <th>type</th>\n",
       "      <th>title</th>\n",
       "      <th>director</th>\n",
       "      <th>country</th>\n",
       "      <th>date_added</th>\n",
       "      <th>release_year</th>\n",
       "      <th>rating</th>\n",
       "      <th>duration</th>\n",
       "      <th>listed_in</th>\n",
       "    </tr>\n",
       "  </thead>\n",
       "  <tbody>\n",
       "    <tr>\n",
       "      <th>0</th>\n",
       "      <td>s1</td>\n",
       "      <td>Movie</td>\n",
       "      <td>Dick Johnson Is Dead</td>\n",
       "      <td>Kirsten Johnson</td>\n",
       "      <td>United States</td>\n",
       "      <td>9/25/2021</td>\n",
       "      <td>2020</td>\n",
       "      <td>PG-13</td>\n",
       "      <td>90 min</td>\n",
       "      <td>Documentaries</td>\n",
       "    </tr>\n",
       "  </tbody>\n",
       "</table>\n",
       "</div>"
      ],
      "text/plain": [
       "  show_id   type                 title         director        country  \\\n",
       "0      s1  Movie  Dick Johnson Is Dead  Kirsten Johnson  United States   \n",
       "\n",
       "  date_added  release_year rating duration      listed_in  \n",
       "0  9/25/2021          2020  PG-13   90 min  Documentaries  "
      ]
     },
     "execution_count": 20,
     "metadata": {},
     "output_type": "execute_result"
    }
   ],
   "source": [
    "data.head(1)"
   ]
  },
  {
   "cell_type": "code",
   "execution_count": 21,
   "id": "331d0936",
   "metadata": {},
   "outputs": [
    {
     "data": {
      "text/plain": [
       "Index(['show_id', 'type', 'title', 'director', 'country', 'date_added',\n",
       "       'release_year', 'rating', 'duration', 'listed_in'],\n",
       "      dtype='object')"
      ]
     },
     "execution_count": 21,
     "metadata": {},
     "output_type": "execute_result"
    }
   ],
   "source": [
    "data.columns"
   ]
  },
  {
   "cell_type": "code",
   "execution_count": 22,
   "id": "92054045",
   "metadata": {},
   "outputs": [
    {
     "data": {
      "text/html": [
       "<div>\n",
       "<style scoped>\n",
       "    .dataframe tbody tr th:only-of-type {\n",
       "        vertical-align: middle;\n",
       "    }\n",
       "\n",
       "    .dataframe tbody tr th {\n",
       "        vertical-align: top;\n",
       "    }\n",
       "\n",
       "    .dataframe thead th {\n",
       "        text-align: right;\n",
       "    }\n",
       "</style>\n",
       "<table border=\"1\" class=\"dataframe\">\n",
       "  <thead>\n",
       "    <tr style=\"text-align: right;\">\n",
       "      <th></th>\n",
       "      <th>rating</th>\n",
       "    </tr>\n",
       "  </thead>\n",
       "  <tbody>\n",
       "    <tr>\n",
       "      <th>0</th>\n",
       "      <td>PG-13</td>\n",
       "    </tr>\n",
       "    <tr>\n",
       "      <th>1</th>\n",
       "      <td>TV-MA</td>\n",
       "    </tr>\n",
       "    <tr>\n",
       "      <th>2</th>\n",
       "      <td>TV-MA</td>\n",
       "    </tr>\n",
       "    <tr>\n",
       "      <th>3</th>\n",
       "      <td>TV-PG</td>\n",
       "    </tr>\n",
       "    <tr>\n",
       "      <th>4</th>\n",
       "      <td>TV-MA</td>\n",
       "    </tr>\n",
       "    <tr>\n",
       "      <th>...</th>\n",
       "      <td>...</td>\n",
       "    </tr>\n",
       "    <tr>\n",
       "      <th>8785</th>\n",
       "      <td>TV-PG</td>\n",
       "    </tr>\n",
       "    <tr>\n",
       "      <th>8786</th>\n",
       "      <td>TV-Y7</td>\n",
       "    </tr>\n",
       "    <tr>\n",
       "      <th>8787</th>\n",
       "      <td>TV-PG</td>\n",
       "    </tr>\n",
       "    <tr>\n",
       "      <th>8788</th>\n",
       "      <td>TV-Y</td>\n",
       "    </tr>\n",
       "    <tr>\n",
       "      <th>8789</th>\n",
       "      <td>TV-Y7</td>\n",
       "    </tr>\n",
       "  </tbody>\n",
       "</table>\n",
       "<p>8790 rows × 1 columns</p>\n",
       "</div>"
      ],
      "text/plain": [
       "     rating\n",
       "0     PG-13\n",
       "1     TV-MA\n",
       "2     TV-MA\n",
       "3     TV-PG\n",
       "4     TV-MA\n",
       "...     ...\n",
       "8785  TV-PG\n",
       "8786  TV-Y7\n",
       "8787  TV-PG\n",
       "8788   TV-Y\n",
       "8789  TV-Y7\n",
       "\n",
       "[8790 rows x 1 columns]"
      ]
     },
     "execution_count": 22,
     "metadata": {},
     "output_type": "execute_result"
    }
   ],
   "source": [
    "data [[\"rating\"]]"
   ]
  },
  {
   "cell_type": "code",
   "execution_count": 24,
   "id": "044838c6",
   "metadata": {},
   "outputs": [],
   "source": [
    "data.drop(columns=\"rating\",inplace=True)"
   ]
  },
  {
   "cell_type": "code",
   "execution_count": 25,
   "id": "57df1621",
   "metadata": {},
   "outputs": [
    {
     "data": {
      "text/html": [
       "<div>\n",
       "<style scoped>\n",
       "    .dataframe tbody tr th:only-of-type {\n",
       "        vertical-align: middle;\n",
       "    }\n",
       "\n",
       "    .dataframe tbody tr th {\n",
       "        vertical-align: top;\n",
       "    }\n",
       "\n",
       "    .dataframe thead th {\n",
       "        text-align: right;\n",
       "    }\n",
       "</style>\n",
       "<table border=\"1\" class=\"dataframe\">\n",
       "  <thead>\n",
       "    <tr style=\"text-align: right;\">\n",
       "      <th></th>\n",
       "      <th>show_id</th>\n",
       "      <th>type</th>\n",
       "      <th>title</th>\n",
       "      <th>director</th>\n",
       "      <th>country</th>\n",
       "      <th>date_added</th>\n",
       "      <th>release_year</th>\n",
       "      <th>duration</th>\n",
       "      <th>listed_in</th>\n",
       "    </tr>\n",
       "  </thead>\n",
       "  <tbody>\n",
       "    <tr>\n",
       "      <th>0</th>\n",
       "      <td>s1</td>\n",
       "      <td>Movie</td>\n",
       "      <td>Dick Johnson Is Dead</td>\n",
       "      <td>Kirsten Johnson</td>\n",
       "      <td>United States</td>\n",
       "      <td>9/25/2021</td>\n",
       "      <td>2020</td>\n",
       "      <td>90 min</td>\n",
       "      <td>Documentaries</td>\n",
       "    </tr>\n",
       "    <tr>\n",
       "      <th>1</th>\n",
       "      <td>s3</td>\n",
       "      <td>TV Show</td>\n",
       "      <td>Ganglands</td>\n",
       "      <td>Julien Leclercq</td>\n",
       "      <td>France</td>\n",
       "      <td>9/24/2021</td>\n",
       "      <td>2021</td>\n",
       "      <td>1 Season</td>\n",
       "      <td>Crime TV Shows, International TV Shows, TV Act...</td>\n",
       "    </tr>\n",
       "    <tr>\n",
       "      <th>2</th>\n",
       "      <td>s6</td>\n",
       "      <td>TV Show</td>\n",
       "      <td>Midnight Mass</td>\n",
       "      <td>Mike Flanagan</td>\n",
       "      <td>United States</td>\n",
       "      <td>9/24/2021</td>\n",
       "      <td>2021</td>\n",
       "      <td>1 Season</td>\n",
       "      <td>TV Dramas, TV Horror, TV Mysteries</td>\n",
       "    </tr>\n",
       "    <tr>\n",
       "      <th>3</th>\n",
       "      <td>s14</td>\n",
       "      <td>Movie</td>\n",
       "      <td>Confessions of an Invisible Girl</td>\n",
       "      <td>Bruno Garotti</td>\n",
       "      <td>Brazil</td>\n",
       "      <td>9/22/2021</td>\n",
       "      <td>2021</td>\n",
       "      <td>91 min</td>\n",
       "      <td>Children &amp; Family Movies, Comedies</td>\n",
       "    </tr>\n",
       "    <tr>\n",
       "      <th>4</th>\n",
       "      <td>s8</td>\n",
       "      <td>Movie</td>\n",
       "      <td>Sankofa</td>\n",
       "      <td>Haile Gerima</td>\n",
       "      <td>United States</td>\n",
       "      <td>9/24/2021</td>\n",
       "      <td>1993</td>\n",
       "      <td>125 min</td>\n",
       "      <td>Dramas, Independent Movies, International Movies</td>\n",
       "    </tr>\n",
       "  </tbody>\n",
       "</table>\n",
       "</div>"
      ],
      "text/plain": [
       "  show_id     type                             title         director  \\\n",
       "0      s1    Movie              Dick Johnson Is Dead  Kirsten Johnson   \n",
       "1      s3  TV Show                         Ganglands  Julien Leclercq   \n",
       "2      s6  TV Show                     Midnight Mass    Mike Flanagan   \n",
       "3     s14    Movie  Confessions of an Invisible Girl    Bruno Garotti   \n",
       "4      s8    Movie                           Sankofa     Haile Gerima   \n",
       "\n",
       "         country date_added  release_year  duration  \\\n",
       "0  United States  9/25/2021          2020    90 min   \n",
       "1         France  9/24/2021          2021  1 Season   \n",
       "2  United States  9/24/2021          2021  1 Season   \n",
       "3         Brazil  9/22/2021          2021    91 min   \n",
       "4  United States  9/24/2021          1993   125 min   \n",
       "\n",
       "                                           listed_in  \n",
       "0                                      Documentaries  \n",
       "1  Crime TV Shows, International TV Shows, TV Act...  \n",
       "2                 TV Dramas, TV Horror, TV Mysteries  \n",
       "3                 Children & Family Movies, Comedies  \n",
       "4   Dramas, Independent Movies, International Movies  "
      ]
     },
     "execution_count": 25,
     "metadata": {},
     "output_type": "execute_result"
    }
   ],
   "source": [
    "data.head()"
   ]
  },
  {
   "cell_type": "code",
   "execution_count": 26,
   "id": "58fe6e0b",
   "metadata": {},
   "outputs": [
    {
     "data": {
      "text/plain": [
       "Index(['show_id', 'type', 'title', 'director', 'country', 'date_added',\n",
       "       'release_year', 'duration', 'listed_in'],\n",
       "      dtype='object')"
      ]
     },
     "execution_count": 26,
     "metadata": {},
     "output_type": "execute_result"
    }
   ],
   "source": [
    "data.columns"
   ]
  },
  {
   "cell_type": "code",
   "execution_count": 27,
   "id": "293b3801",
   "metadata": {},
   "outputs": [],
   "source": [
    "new_column_names=[]\n",
    "for i in data.columns:\n",
    "    new_column_names.append(i.capitalize())"
   ]
  },
  {
   "cell_type": "code",
   "execution_count": 28,
   "id": "e15bc362",
   "metadata": {},
   "outputs": [
    {
     "data": {
      "text/plain": [
       "['Show_id',\n",
       " 'Type',\n",
       " 'Title',\n",
       " 'Director',\n",
       " 'Country',\n",
       " 'Date_added',\n",
       " 'Release_year',\n",
       " 'Duration',\n",
       " 'Listed_in']"
      ]
     },
     "execution_count": 28,
     "metadata": {},
     "output_type": "execute_result"
    }
   ],
   "source": [
    "new_column_names"
   ]
  },
  {
   "cell_type": "code",
   "execution_count": 29,
   "id": "b7793d4f",
   "metadata": {},
   "outputs": [],
   "source": [
    "data.columns=new_column_names"
   ]
  },
  {
   "cell_type": "code",
   "execution_count": 30,
   "id": "8c0cdec8",
   "metadata": {},
   "outputs": [
    {
     "data": {
      "text/html": [
       "<div>\n",
       "<style scoped>\n",
       "    .dataframe tbody tr th:only-of-type {\n",
       "        vertical-align: middle;\n",
       "    }\n",
       "\n",
       "    .dataframe tbody tr th {\n",
       "        vertical-align: top;\n",
       "    }\n",
       "\n",
       "    .dataframe thead th {\n",
       "        text-align: right;\n",
       "    }\n",
       "</style>\n",
       "<table border=\"1\" class=\"dataframe\">\n",
       "  <thead>\n",
       "    <tr style=\"text-align: right;\">\n",
       "      <th></th>\n",
       "      <th>Show_id</th>\n",
       "      <th>Type</th>\n",
       "      <th>Title</th>\n",
       "      <th>Director</th>\n",
       "      <th>Country</th>\n",
       "      <th>Date_added</th>\n",
       "      <th>Release_year</th>\n",
       "      <th>Duration</th>\n",
       "      <th>Listed_in</th>\n",
       "    </tr>\n",
       "  </thead>\n",
       "  <tbody>\n",
       "    <tr>\n",
       "      <th>0</th>\n",
       "      <td>s1</td>\n",
       "      <td>Movie</td>\n",
       "      <td>Dick Johnson Is Dead</td>\n",
       "      <td>Kirsten Johnson</td>\n",
       "      <td>United States</td>\n",
       "      <td>9/25/2021</td>\n",
       "      <td>2020</td>\n",
       "      <td>90 min</td>\n",
       "      <td>Documentaries</td>\n",
       "    </tr>\n",
       "    <tr>\n",
       "      <th>1</th>\n",
       "      <td>s3</td>\n",
       "      <td>TV Show</td>\n",
       "      <td>Ganglands</td>\n",
       "      <td>Julien Leclercq</td>\n",
       "      <td>France</td>\n",
       "      <td>9/24/2021</td>\n",
       "      <td>2021</td>\n",
       "      <td>1 Season</td>\n",
       "      <td>Crime TV Shows, International TV Shows, TV Act...</td>\n",
       "    </tr>\n",
       "    <tr>\n",
       "      <th>2</th>\n",
       "      <td>s6</td>\n",
       "      <td>TV Show</td>\n",
       "      <td>Midnight Mass</td>\n",
       "      <td>Mike Flanagan</td>\n",
       "      <td>United States</td>\n",
       "      <td>9/24/2021</td>\n",
       "      <td>2021</td>\n",
       "      <td>1 Season</td>\n",
       "      <td>TV Dramas, TV Horror, TV Mysteries</td>\n",
       "    </tr>\n",
       "    <tr>\n",
       "      <th>3</th>\n",
       "      <td>s14</td>\n",
       "      <td>Movie</td>\n",
       "      <td>Confessions of an Invisible Girl</td>\n",
       "      <td>Bruno Garotti</td>\n",
       "      <td>Brazil</td>\n",
       "      <td>9/22/2021</td>\n",
       "      <td>2021</td>\n",
       "      <td>91 min</td>\n",
       "      <td>Children &amp; Family Movies, Comedies</td>\n",
       "    </tr>\n",
       "    <tr>\n",
       "      <th>4</th>\n",
       "      <td>s8</td>\n",
       "      <td>Movie</td>\n",
       "      <td>Sankofa</td>\n",
       "      <td>Haile Gerima</td>\n",
       "      <td>United States</td>\n",
       "      <td>9/24/2021</td>\n",
       "      <td>1993</td>\n",
       "      <td>125 min</td>\n",
       "      <td>Dramas, Independent Movies, International Movies</td>\n",
       "    </tr>\n",
       "  </tbody>\n",
       "</table>\n",
       "</div>"
      ],
      "text/plain": [
       "  Show_id     Type                             Title         Director  \\\n",
       "0      s1    Movie              Dick Johnson Is Dead  Kirsten Johnson   \n",
       "1      s3  TV Show                         Ganglands  Julien Leclercq   \n",
       "2      s6  TV Show                     Midnight Mass    Mike Flanagan   \n",
       "3     s14    Movie  Confessions of an Invisible Girl    Bruno Garotti   \n",
       "4      s8    Movie                           Sankofa     Haile Gerima   \n",
       "\n",
       "         Country Date_added  Release_year  Duration  \\\n",
       "0  United States  9/25/2021          2020    90 min   \n",
       "1         France  9/24/2021          2021  1 Season   \n",
       "2  United States  9/24/2021          2021  1 Season   \n",
       "3         Brazil  9/22/2021          2021    91 min   \n",
       "4  United States  9/24/2021          1993   125 min   \n",
       "\n",
       "                                           Listed_in  \n",
       "0                                      Documentaries  \n",
       "1  Crime TV Shows, International TV Shows, TV Act...  \n",
       "2                 TV Dramas, TV Horror, TV Mysteries  \n",
       "3                 Children & Family Movies, Comedies  \n",
       "4   Dramas, Independent Movies, International Movies  "
      ]
     },
     "execution_count": 30,
     "metadata": {},
     "output_type": "execute_result"
    }
   ],
   "source": [
    "data.head()"
   ]
  },
  {
   "cell_type": "code",
   "execution_count": 31,
   "id": "de4662cd",
   "metadata": {},
   "outputs": [
    {
     "data": {
      "text/plain": [
       "Index(['Show_id', 'Type', 'Title', 'Director', 'Country', 'Date_added',\n",
       "       'Release_year', 'Duration', 'Listed_in'],\n",
       "      dtype='object')"
      ]
     },
     "execution_count": 31,
     "metadata": {},
     "output_type": "execute_result"
    }
   ],
   "source": [
    "data.columns"
   ]
  },
  {
   "cell_type": "code",
   "execution_count": 33,
   "id": "cc5d10b1",
   "metadata": {},
   "outputs": [
    {
     "data": {
      "text/plain": [
       "np.int64(0)"
      ]
     },
     "execution_count": 33,
     "metadata": {},
     "output_type": "execute_result"
    }
   ],
   "source": [
    "data.duplicated().sum()"
   ]
  },
  {
   "cell_type": "code",
   "execution_count": 34,
   "id": "b28ab48a",
   "metadata": {},
   "outputs": [],
   "source": [
    "# For cleaning the duplicates "
   ]
  },
  {
   "cell_type": "code",
   "execution_count": 36,
   "id": "1a76236d",
   "metadata": {},
   "outputs": [],
   "source": [
    "data.drop_duplicates(inplace = True)   "
   ]
  },
  {
   "cell_type": "code",
   "execution_count": 38,
   "id": "84515c63",
   "metadata": {},
   "outputs": [
    {
     "data": {
      "text/plain": [
       "Show_id         0\n",
       "Type            0\n",
       "Title           0\n",
       "Director        0\n",
       "Country         0\n",
       "Date_added      0\n",
       "Release_year    0\n",
       "Duration        0\n",
       "Listed_in       0\n",
       "dtype: int64"
      ]
     },
     "execution_count": 38,
     "metadata": {},
     "output_type": "execute_result"
    }
   ],
   "source": [
    "data.isna().sum()"
   ]
  },
  {
   "cell_type": "code",
   "execution_count": null,
   "id": "8f747ab6",
   "metadata": {},
   "outputs": [],
   "source": [
    "# if we had na values\n",
    "data.dropna(inplace = True)"
   ]
  },
  {
   "cell_type": "code",
   "execution_count": 42,
   "id": "ef1acce2",
   "metadata": {},
   "outputs": [
    {
     "data": {
      "text/html": [
       "<div>\n",
       "<style scoped>\n",
       "    .dataframe tbody tr th:only-of-type {\n",
       "        vertical-align: middle;\n",
       "    }\n",
       "\n",
       "    .dataframe tbody tr th {\n",
       "        vertical-align: top;\n",
       "    }\n",
       "\n",
       "    .dataframe thead th {\n",
       "        text-align: right;\n",
       "    }\n",
       "</style>\n",
       "<table border=\"1\" class=\"dataframe\">\n",
       "  <thead>\n",
       "    <tr style=\"text-align: right;\">\n",
       "      <th></th>\n",
       "      <th>Show_id</th>\n",
       "      <th>Type</th>\n",
       "      <th>Title</th>\n",
       "      <th>Director</th>\n",
       "      <th>Country</th>\n",
       "      <th>Date_added</th>\n",
       "      <th>Release_year</th>\n",
       "      <th>Duration</th>\n",
       "      <th>Listed_in</th>\n",
       "    </tr>\n",
       "  </thead>\n",
       "  <tbody>\n",
       "    <tr>\n",
       "      <th>0</th>\n",
       "      <td>s1</td>\n",
       "      <td>Movie</td>\n",
       "      <td>Dick Johnson Is Dead</td>\n",
       "      <td>Kirsten Johnson</td>\n",
       "      <td>United States</td>\n",
       "      <td>9/25/2021</td>\n",
       "      <td>2020</td>\n",
       "      <td>90 min</td>\n",
       "      <td>Documentaries</td>\n",
       "    </tr>\n",
       "    <tr>\n",
       "      <th>1</th>\n",
       "      <td>s3</td>\n",
       "      <td>TV Show</td>\n",
       "      <td>Ganglands</td>\n",
       "      <td>Julien Leclercq</td>\n",
       "      <td>France</td>\n",
       "      <td>9/24/2021</td>\n",
       "      <td>2021</td>\n",
       "      <td>1 Season</td>\n",
       "      <td>Crime TV Shows, International TV Shows, TV Act...</td>\n",
       "    </tr>\n",
       "    <tr>\n",
       "      <th>2</th>\n",
       "      <td>s6</td>\n",
       "      <td>TV Show</td>\n",
       "      <td>Midnight Mass</td>\n",
       "      <td>Mike Flanagan</td>\n",
       "      <td>United States</td>\n",
       "      <td>9/24/2021</td>\n",
       "      <td>2021</td>\n",
       "      <td>1 Season</td>\n",
       "      <td>TV Dramas, TV Horror, TV Mysteries</td>\n",
       "    </tr>\n",
       "    <tr>\n",
       "      <th>3</th>\n",
       "      <td>s14</td>\n",
       "      <td>Movie</td>\n",
       "      <td>Confessions of an Invisible Girl</td>\n",
       "      <td>Bruno Garotti</td>\n",
       "      <td>Brazil</td>\n",
       "      <td>9/22/2021</td>\n",
       "      <td>2021</td>\n",
       "      <td>91 min</td>\n",
       "      <td>Children &amp; Family Movies, Comedies</td>\n",
       "    </tr>\n",
       "    <tr>\n",
       "      <th>4</th>\n",
       "      <td>s8</td>\n",
       "      <td>Movie</td>\n",
       "      <td>Sankofa</td>\n",
       "      <td>Haile Gerima</td>\n",
       "      <td>United States</td>\n",
       "      <td>9/24/2021</td>\n",
       "      <td>1993</td>\n",
       "      <td>125 min</td>\n",
       "      <td>Dramas, Independent Movies, International Movies</td>\n",
       "    </tr>\n",
       "  </tbody>\n",
       "</table>\n",
       "</div>"
      ],
      "text/plain": [
       "  Show_id     Type                             Title         Director  \\\n",
       "0      s1    Movie              Dick Johnson Is Dead  Kirsten Johnson   \n",
       "1      s3  TV Show                         Ganglands  Julien Leclercq   \n",
       "2      s6  TV Show                     Midnight Mass    Mike Flanagan   \n",
       "3     s14    Movie  Confessions of an Invisible Girl    Bruno Garotti   \n",
       "4      s8    Movie                           Sankofa     Haile Gerima   \n",
       "\n",
       "         Country Date_added  Release_year  Duration  \\\n",
       "0  United States  9/25/2021          2020    90 min   \n",
       "1         France  9/24/2021          2021  1 Season   \n",
       "2  United States  9/24/2021          2021  1 Season   \n",
       "3         Brazil  9/22/2021          2021    91 min   \n",
       "4  United States  9/24/2021          1993   125 min   \n",
       "\n",
       "                                           Listed_in  \n",
       "0                                      Documentaries  \n",
       "1  Crime TV Shows, International TV Shows, TV Act...  \n",
       "2                 TV Dramas, TV Horror, TV Mysteries  \n",
       "3                 Children & Family Movies, Comedies  \n",
       "4   Dramas, Independent Movies, International Movies  "
      ]
     },
     "execution_count": 42,
     "metadata": {},
     "output_type": "execute_result"
    }
   ],
   "source": [
    "data.head()"
   ]
  },
  {
   "cell_type": "code",
   "execution_count": null,
   "id": "ebd0034c",
   "metadata": {},
   "outputs": [
    {
     "data": {
      "text/plain": [
       "8790"
      ]
     },
     "execution_count": 48,
     "metadata": {},
     "output_type": "execute_result"
    }
   ],
   "source": [
    "data[\"Show_id\"].unique()"
   ]
  },
  {
   "cell_type": "code",
   "execution_count": 49,
   "id": "2ea1d27b",
   "metadata": {},
   "outputs": [
    {
     "data": {
      "text/plain": [
       "0          1\n",
       "1          3\n",
       "2          6\n",
       "3         14\n",
       "4          8\n",
       "        ... \n",
       "8785    8797\n",
       "8786    8798\n",
       "8787    8801\n",
       "8788    8784\n",
       "8789    8786\n",
       "Name: Show_id, Length: 8790, dtype: object"
      ]
     },
     "execution_count": 49,
     "metadata": {},
     "output_type": "execute_result"
    }
   ],
   "source": [
    "data[\"Show_id\"].apply(lambda x: x.split(\"s\") [1])"
   ]
  },
  {
   "cell_type": "code",
   "execution_count": 59,
   "id": "3e5f6ee0",
   "metadata": {},
   "outputs": [],
   "source": [
    "data[\"show_id\"]=data[\"Show_id\"].astype(int)"
   ]
  },
  {
   "cell_type": "code",
   "execution_count": 60,
   "id": "8bdbf912",
   "metadata": {},
   "outputs": [
    {
     "data": {
      "text/html": [
       "<div>\n",
       "<style scoped>\n",
       "    .dataframe tbody tr th:only-of-type {\n",
       "        vertical-align: middle;\n",
       "    }\n",
       "\n",
       "    .dataframe tbody tr th {\n",
       "        vertical-align: top;\n",
       "    }\n",
       "\n",
       "    .dataframe thead th {\n",
       "        text-align: right;\n",
       "    }\n",
       "</style>\n",
       "<table border=\"1\" class=\"dataframe\">\n",
       "  <thead>\n",
       "    <tr style=\"text-align: right;\">\n",
       "      <th></th>\n",
       "      <th>Show_id</th>\n",
       "      <th>Type</th>\n",
       "      <th>Title</th>\n",
       "      <th>Director</th>\n",
       "      <th>Country</th>\n",
       "      <th>Date_added</th>\n",
       "      <th>Release_year</th>\n",
       "      <th>Duration</th>\n",
       "      <th>Listed_in</th>\n",
       "      <th>show_id</th>\n",
       "    </tr>\n",
       "  </thead>\n",
       "  <tbody>\n",
       "    <tr>\n",
       "      <th>0</th>\n",
       "      <td>1</td>\n",
       "      <td>Movie</td>\n",
       "      <td>Dick Johnson Is Dead</td>\n",
       "      <td>Kirsten Johnson</td>\n",
       "      <td>United States</td>\n",
       "      <td>9/25/2021</td>\n",
       "      <td>2020</td>\n",
       "      <td>90 min</td>\n",
       "      <td>Documentaries</td>\n",
       "      <td>1</td>\n",
       "    </tr>\n",
       "    <tr>\n",
       "      <th>1</th>\n",
       "      <td>3</td>\n",
       "      <td>TV Show</td>\n",
       "      <td>Ganglands</td>\n",
       "      <td>Julien Leclercq</td>\n",
       "      <td>France</td>\n",
       "      <td>9/24/2021</td>\n",
       "      <td>2021</td>\n",
       "      <td>1 Season</td>\n",
       "      <td>Crime TV Shows, International TV Shows, TV Act...</td>\n",
       "      <td>3</td>\n",
       "    </tr>\n",
       "    <tr>\n",
       "      <th>2</th>\n",
       "      <td>6</td>\n",
       "      <td>TV Show</td>\n",
       "      <td>Midnight Mass</td>\n",
       "      <td>Mike Flanagan</td>\n",
       "      <td>United States</td>\n",
       "      <td>9/24/2021</td>\n",
       "      <td>2021</td>\n",
       "      <td>1 Season</td>\n",
       "      <td>TV Dramas, TV Horror, TV Mysteries</td>\n",
       "      <td>6</td>\n",
       "    </tr>\n",
       "    <tr>\n",
       "      <th>3</th>\n",
       "      <td>14</td>\n",
       "      <td>Movie</td>\n",
       "      <td>Confessions of an Invisible Girl</td>\n",
       "      <td>Bruno Garotti</td>\n",
       "      <td>Brazil</td>\n",
       "      <td>9/22/2021</td>\n",
       "      <td>2021</td>\n",
       "      <td>91 min</td>\n",
       "      <td>Children &amp; Family Movies, Comedies</td>\n",
       "      <td>14</td>\n",
       "    </tr>\n",
       "    <tr>\n",
       "      <th>4</th>\n",
       "      <td>8</td>\n",
       "      <td>Movie</td>\n",
       "      <td>Sankofa</td>\n",
       "      <td>Haile Gerima</td>\n",
       "      <td>United States</td>\n",
       "      <td>9/24/2021</td>\n",
       "      <td>1993</td>\n",
       "      <td>125 min</td>\n",
       "      <td>Dramas, Independent Movies, International Movies</td>\n",
       "      <td>8</td>\n",
       "    </tr>\n",
       "    <tr>\n",
       "      <th>...</th>\n",
       "      <td>...</td>\n",
       "      <td>...</td>\n",
       "      <td>...</td>\n",
       "      <td>...</td>\n",
       "      <td>...</td>\n",
       "      <td>...</td>\n",
       "      <td>...</td>\n",
       "      <td>...</td>\n",
       "      <td>...</td>\n",
       "      <td>...</td>\n",
       "    </tr>\n",
       "    <tr>\n",
       "      <th>8785</th>\n",
       "      <td>8797</td>\n",
       "      <td>TV Show</td>\n",
       "      <td>Yunus Emre</td>\n",
       "      <td>Not Given</td>\n",
       "      <td>Turkey</td>\n",
       "      <td>1/17/2017</td>\n",
       "      <td>2016</td>\n",
       "      <td>2 Seasons</td>\n",
       "      <td>International TV Shows, TV Dramas</td>\n",
       "      <td>8797</td>\n",
       "    </tr>\n",
       "    <tr>\n",
       "      <th>8786</th>\n",
       "      <td>8798</td>\n",
       "      <td>TV Show</td>\n",
       "      <td>Zak Storm</td>\n",
       "      <td>Not Given</td>\n",
       "      <td>United States</td>\n",
       "      <td>9/13/2018</td>\n",
       "      <td>2016</td>\n",
       "      <td>3 Seasons</td>\n",
       "      <td>Kids' TV</td>\n",
       "      <td>8798</td>\n",
       "    </tr>\n",
       "    <tr>\n",
       "      <th>8787</th>\n",
       "      <td>8801</td>\n",
       "      <td>TV Show</td>\n",
       "      <td>Zindagi Gulzar Hai</td>\n",
       "      <td>Not Given</td>\n",
       "      <td>Pakistan</td>\n",
       "      <td>12/15/2016</td>\n",
       "      <td>2012</td>\n",
       "      <td>1 Season</td>\n",
       "      <td>International TV Shows, Romantic TV Shows, TV ...</td>\n",
       "      <td>8801</td>\n",
       "    </tr>\n",
       "    <tr>\n",
       "      <th>8788</th>\n",
       "      <td>8784</td>\n",
       "      <td>TV Show</td>\n",
       "      <td>Yoko</td>\n",
       "      <td>Not Given</td>\n",
       "      <td>Pakistan</td>\n",
       "      <td>6/23/2018</td>\n",
       "      <td>2016</td>\n",
       "      <td>1 Season</td>\n",
       "      <td>Kids' TV</td>\n",
       "      <td>8784</td>\n",
       "    </tr>\n",
       "    <tr>\n",
       "      <th>8789</th>\n",
       "      <td>8786</td>\n",
       "      <td>TV Show</td>\n",
       "      <td>YOM</td>\n",
       "      <td>Not Given</td>\n",
       "      <td>Pakistan</td>\n",
       "      <td>6/7/2018</td>\n",
       "      <td>2016</td>\n",
       "      <td>1 Season</td>\n",
       "      <td>Kids' TV</td>\n",
       "      <td>8786</td>\n",
       "    </tr>\n",
       "  </tbody>\n",
       "</table>\n",
       "<p>8790 rows × 10 columns</p>\n",
       "</div>"
      ],
      "text/plain": [
       "      Show_id     Type                             Title         Director  \\\n",
       "0           1    Movie              Dick Johnson Is Dead  Kirsten Johnson   \n",
       "1           3  TV Show                         Ganglands  Julien Leclercq   \n",
       "2           6  TV Show                     Midnight Mass    Mike Flanagan   \n",
       "3          14    Movie  Confessions of an Invisible Girl    Bruno Garotti   \n",
       "4           8    Movie                           Sankofa     Haile Gerima   \n",
       "...       ...      ...                               ...              ...   \n",
       "8785     8797  TV Show                        Yunus Emre        Not Given   \n",
       "8786     8798  TV Show                         Zak Storm        Not Given   \n",
       "8787     8801  TV Show                Zindagi Gulzar Hai        Not Given   \n",
       "8788     8784  TV Show                              Yoko        Not Given   \n",
       "8789     8786  TV Show                               YOM        Not Given   \n",
       "\n",
       "            Country  Date_added  Release_year   Duration  \\\n",
       "0     United States   9/25/2021          2020     90 min   \n",
       "1            France   9/24/2021          2021   1 Season   \n",
       "2     United States   9/24/2021          2021   1 Season   \n",
       "3            Brazil   9/22/2021          2021     91 min   \n",
       "4     United States   9/24/2021          1993    125 min   \n",
       "...             ...         ...           ...        ...   \n",
       "8785         Turkey   1/17/2017          2016  2 Seasons   \n",
       "8786  United States   9/13/2018          2016  3 Seasons   \n",
       "8787       Pakistan  12/15/2016          2012   1 Season   \n",
       "8788       Pakistan   6/23/2018          2016   1 Season   \n",
       "8789       Pakistan    6/7/2018          2016   1 Season   \n",
       "\n",
       "                                              Listed_in  show_id  \n",
       "0                                         Documentaries        1  \n",
       "1     Crime TV Shows, International TV Shows, TV Act...        3  \n",
       "2                    TV Dramas, TV Horror, TV Mysteries        6  \n",
       "3                    Children & Family Movies, Comedies       14  \n",
       "4      Dramas, Independent Movies, International Movies        8  \n",
       "...                                                 ...      ...  \n",
       "8785                  International TV Shows, TV Dramas     8797  \n",
       "8786                                           Kids' TV     8798  \n",
       "8787  International TV Shows, Romantic TV Shows, TV ...     8801  \n",
       "8788                                           Kids' TV     8784  \n",
       "8789                                           Kids' TV     8786  \n",
       "\n",
       "[8790 rows x 10 columns]"
      ]
     },
     "execution_count": 60,
     "metadata": {},
     "output_type": "execute_result"
    }
   ],
   "source": [
    "data"
   ]
  },
  {
   "cell_type": "code",
   "execution_count": 68,
   "id": "5cb493b8",
   "metadata": {},
   "outputs": [],
   "source": [
    "data[\"Date_added\"]=data[\"Date_added\"].apply(lambda x: x.replace(\"/\",\"-\"))"
   ]
  },
  {
   "cell_type": "code",
   "execution_count": null,
   "id": "a66b3565",
   "metadata": {},
   "outputs": [],
   "source": []
  },
  {
   "cell_type": "code",
   "execution_count": null,
   "id": "e19d937d",
   "metadata": {},
   "outputs": [],
   "source": []
  },
  {
   "cell_type": "code",
   "execution_count": 70,
   "id": "9999265b",
   "metadata": {},
   "outputs": [],
   "source": [
    "data.to_csv(\"Cleaned_netflix_data.csv\",index=False)"
   ]
  },
  {
   "cell_type": "code",
   "execution_count": 71,
   "id": "a26ab9f1",
   "metadata": {},
   "outputs": [],
   "source": [
    "data.to_excel(\"Cleaned_netflix_data.xlsx\",index=False)"
   ]
  }
 ],
 "metadata": {
  "kernelspec": {
   "display_name": "base",
   "language": "python",
   "name": "python3"
  },
  "language_info": {
   "codemirror_mode": {
    "name": "ipython",
    "version": 3
   },
   "file_extension": ".py",
   "mimetype": "text/x-python",
   "name": "python",
   "nbconvert_exporter": "python",
   "pygments_lexer": "ipython3",
   "version": "3.13.5"
  }
 },
 "nbformat": 4,
 "nbformat_minor": 5
}
